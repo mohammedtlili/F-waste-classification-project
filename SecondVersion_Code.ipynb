{
 "cells": [
  {
   "cell_type": "code",
   "execution_count": 1,
   "metadata": {},
   "outputs": [
    {
     "ename": "ModuleNotFoundError",
     "evalue": "No module named 'tensorflow'",
     "output_type": "error",
     "traceback": [
      "\u001b[1;31m---------------------------------------------------------------------------\u001b[0m",
      "\u001b[1;31mModuleNotFoundError\u001b[0m                       Traceback (most recent call last)",
      "\u001b[1;32m<ipython-input-1-a9c898c25b45>\u001b[0m in \u001b[0;36m<module>\u001b[1;34m\u001b[0m\n\u001b[1;32m----> 1\u001b[1;33m \u001b[1;32mimport\u001b[0m \u001b[0mtensorflow\u001b[0m \u001b[1;32mas\u001b[0m \u001b[0mtf\u001b[0m\u001b[1;33m\u001b[0m\u001b[1;33m\u001b[0m\u001b[0m\n\u001b[0m\u001b[0;32m      2\u001b[0m \u001b[1;32mfrom\u001b[0m \u001b[0mtensorflow\u001b[0m \u001b[1;32mimport\u001b[0m \u001b[0mkeras\u001b[0m\u001b[1;33m\u001b[0m\u001b[1;33m\u001b[0m\u001b[0m\n\u001b[0;32m      3\u001b[0m \u001b[1;32mimport\u001b[0m \u001b[0mos\u001b[0m\u001b[1;33m\u001b[0m\u001b[1;33m\u001b[0m\u001b[0m\n\u001b[0;32m      4\u001b[0m \u001b[1;32mimport\u001b[0m \u001b[0mshutil\u001b[0m\u001b[1;33m\u001b[0m\u001b[1;33m\u001b[0m\u001b[0m\n\u001b[0;32m      5\u001b[0m \u001b[1;32mfrom\u001b[0m \u001b[0mtqdm\u001b[0m \u001b[1;32mimport\u001b[0m \u001b[0mtqdm\u001b[0m\u001b[1;33m\u001b[0m\u001b[1;33m\u001b[0m\u001b[0m\n",
      "\u001b[1;31mModuleNotFoundError\u001b[0m: No module named 'tensorflow'"
     ]
    }
   ],
   "source": [
    "import tensorflow as tf\n",
    "from tensorflow import keras\n",
    "import os\n",
    "import shutil\n",
    "from tqdm import tqdm\n",
    "from tensorflow.keras.preprocessing.image import ImageDataGenerator\n",
    "import numpy as np\n",
    "from sklearn.metrics import confusion_matrix\n",
    "import random\n",
    "import cv2\n",
    "from tensorflow.keras.models import Sequential\n",
    "from tensorflow.keras.layers import Dense,Conv2D,BatchNormalization,Flatten,AvgPool2D\n",
    "from tensorflow.keras.optimizers import Adam\n",
    "import matplotlib.pyplot as plt\n",
    "from tensorflow.keras.callbacks import EarlyStopping"
   ]
  },
  {
   "cell_type": "code",
   "execution_count": 2,
   "metadata": {},
   "outputs": [],
   "source": [
    "#!pip install keras-tuner -q\n"
   ]
  },
  {
   "cell_type": "code",
   "execution_count": 3,
   "metadata": {},
   "outputs": [],
   "source": [
    "#import keras_tuner as kt\n"
   ]
  },
  {
   "cell_type": "code",
   "execution_count": 4,
   "metadata": {},
   "outputs": [
    {
     "name": "stdout",
     "output_type": "stream",
     "text": [
      "['O', 'R']\n"
     ]
    }
   ],
   "source": [
    "path='C:/Users/user/Desktop/Cours MPDS2 S1/DATASET'\n",
    "target=os.listdir(os.path.join(path,'TRAIN'))\n",
    "print(target)"
   ]
  },
  {
   "cell_type": "code",
   "execution_count": 5,
   "metadata": {},
   "outputs": [],
   "source": [
    "new_dir='C:/Users/user/Desktop/Cours MPDS2 S1/data'\n",
    "train_path=new_dir+'/train'\n",
    "valid_path=new_dir+'/valid'\n",
    "test_path=new_dir+'/test'"
   ]
  },
  {
   "cell_type": "code",
   "execution_count": 6,
   "metadata": {},
   "outputs": [],
   "source": [
    "def create_dir():\n",
    "    if not os.path.isdir(new_dir):\n",
    "        os.makedirs(new_dir)\n",
    "        os.makedirs(train_path)\n",
    "        os.makedirs(valid_path)\n",
    "        os.makedirs(test_path)\n",
    "        for label in target:\n",
    "            os.makedirs(os.path.join(train_path,label))\n",
    "            os.makedirs(os.path.join(valid_path,label))\n",
    "            os.makedirs(os.path.join(test_path,label))"
   ]
  },
  {
   "cell_type": "code",
   "execution_count": 7,
   "metadata": {},
   "outputs": [],
   "source": [
    "create_dir()"
   ]
  },
  {
   "cell_type": "code",
   "execution_count": 8,
   "metadata": {},
   "outputs": [],
   "source": [
    "def check_path():\n",
    "    print(f'{new_dir}: {os.path.isdir(new_dir)}')\n",
    "    print(f'{train_path}:{os.path.isdir(train_path)}')\n",
    "    print(f'{valid_path}:{os.path.isdir(valid_path)}')\n",
    "    print(f'{test_path}:{os.path.isdir(test_path)}')\n",
    "    for label in target:\n",
    "        print(f'{os.path.join(train_path,label)}:{os.path.isdir(os.path.join(train_path,label))}')\n",
    "        print(f'{os.path.join(valid_path,label)}:{os.path.isdir(os.path.join(valid_path,label))}')\n",
    "        print(f'{os.path.join(test_path,label)}:{os.path.isdir(os.path.join(test_path,label))}')\n"
   ]
  },
  {
   "cell_type": "code",
   "execution_count": 9,
   "metadata": {},
   "outputs": [
    {
     "name": "stdout",
     "output_type": "stream",
     "text": [
      "C:/Users/user/Desktop/Cours MPDS2 S1/data: True\n",
      "C:/Users/user/Desktop/Cours MPDS2 S1/data/train:True\n",
      "C:/Users/user/Desktop/Cours MPDS2 S1/data/valid:True\n",
      "C:/Users/user/Desktop/Cours MPDS2 S1/data/test:True\n",
      "C:/Users/user/Desktop/Cours MPDS2 S1/data/train\\O:True\n",
      "C:/Users/user/Desktop/Cours MPDS2 S1/data/valid\\O:True\n",
      "C:/Users/user/Desktop/Cours MPDS2 S1/data/test\\O:True\n",
      "C:/Users/user/Desktop/Cours MPDS2 S1/data/train\\R:True\n",
      "C:/Users/user/Desktop/Cours MPDS2 S1/data/valid\\R:True\n",
      "C:/Users/user/Desktop/Cours MPDS2 S1/data/test\\R:True\n"
     ]
    }
   ],
   "source": [
    "check_path()"
   ]
  },
  {
   "cell_type": "code",
   "execution_count": 10,
   "metadata": {},
   "outputs": [],
   "source": [
    "def find_image_size():\n",
    "    image_path=os.path.join(path,'TRAIN/O')\n",
    "    for image in os.listdir(image_path):\n",
    "        img_path=os.path.join(image_path,image)\n",
    "        img=cv2.imread(img_path)\n",
    "        print(img.shape)\n",
    "        break"
   ]
  },
  {
   "cell_type": "code",
   "execution_count": 11,
   "metadata": {},
   "outputs": [
    {
     "name": "stdout",
     "output_type": "stream",
     "text": [
      "(242, 208, 3)\n"
     ]
    }
   ],
   "source": [
    "find_image_size()"
   ]
  },
  {
   "cell_type": "code",
   "execution_count": 12,
   "metadata": {},
   "outputs": [],
   "source": [
    "img_size=(96,96) \n",
    "batch_size=20\n",
    "epochs=30\n",
    "train_valid_path=path+'/TRAIN' \n",
    "testing_path=path+'/TEST'\n",
    "steps_per_epoch=250"
   ]
  },
  {
   "cell_type": "code",
   "execution_count": 13,
   "metadata": {},
   "outputs": [],
   "source": [
    "def load_train_images(img_per_category=3500):\n",
    "    for folder in os.listdir(train_valid_path):\n",
    "        folder_path=os.path.join(train_valid_path,folder)\n",
    "        print(f'Loading training images for {folder}')\n",
    "        train_image_set=random.sample(os.listdir(folder_path),img_per_category)\n",
    "        dest=os.path.join(train_path,folder)\n",
    "        for c in tqdm(train_image_set):\n",
    "            img_path=os.path.join(folder_path,c)\n",
    "            shutil.copy(img_path,dest)\n",
    "def load_valid_images(img_per_category=1000):\n",
    "    for folder in os.listdir(train_valid_path):\n",
    "        folder_path=os.path.join(train_valid_path,folder)\n",
    "        print(f'Loading validation images for {folder}')\n",
    "        dest=os.path.join(valid_path,folder)\n",
    "        valid_image_set=random.sample(os.listdir(folder_path),img_per_category)\n",
    "        for c in tqdm(valid_image_set):\n",
    "            img_path=os.path.join(folder_path,c)\n",
    "            shutil.copy(img_path,dest)\n",
    "def load_test_images(img_per_category=500):\n",
    "    for folder in os.listdir(testing_path):\n",
    "        print(f'Loading the testing images for {folder}')\n",
    "        folder_path=os.path.join(testing_path,folder)\n",
    "        dest=os.path.join(test_path,folder)\n",
    "        test_image_set=random.sample(os.listdir(folder_path),img_per_category)\n",
    "        for c in tqdm(test_image_set):\n",
    "            img_path=os.path.join(folder_path,c)\n",
    "            shutil.copy(img_path,dest)"
   ]
  },
  {
   "cell_type": "code",
   "execution_count": 14,
   "metadata": {},
   "outputs": [
    {
     "name": "stderr",
     "output_type": "stream",
     "text": [
      "  0%|          | 5/5000 [00:00<02:14, 37.21it/s]"
     ]
    },
    {
     "name": "stdout",
     "output_type": "stream",
     "text": [
      "Loading training images for O\n"
     ]
    },
    {
     "name": "stderr",
     "output_type": "stream",
     "text": [
      "100%|██████████| 5000/5000 [01:35<00:00, 52.12it/s]\n",
      "  0%|          | 12/5000 [00:00<00:46, 107.26it/s]"
     ]
    },
    {
     "name": "stdout",
     "output_type": "stream",
     "text": [
      "Loading training images for R\n"
     ]
    },
    {
     "name": "stderr",
     "output_type": "stream",
     "text": [
      "100%|██████████| 5000/5000 [01:23<00:00, 59.98it/s] \n"
     ]
    }
   ],
   "source": [
    "load_train_images(5000)"
   ]
  },
  {
   "cell_type": "code",
   "execution_count": 15,
   "metadata": {},
   "outputs": [
    {
     "name": "stderr",
     "output_type": "stream",
     "text": [
      "\r\n",
      "  0%|          | 0/1500 [00:00<?, ?it/s]"
     ]
    },
    {
     "name": "stdout",
     "output_type": "stream",
     "text": [
      "Loading validation images for O\n"
     ]
    },
    {
     "name": "stderr",
     "output_type": "stream",
     "text": [
      "100%|██████████| 1500/1500 [00:22<00:00, 65.96it/s] \n",
      "  2%|▏         | 26/1500 [00:00<00:07, 202.16it/s]"
     ]
    },
    {
     "name": "stdout",
     "output_type": "stream",
     "text": [
      "Loading validation images for R\n"
     ]
    },
    {
     "name": "stderr",
     "output_type": "stream",
     "text": [
      "100%|██████████| 1500/1500 [00:13<00:00, 111.04it/s]\n"
     ]
    }
   ],
   "source": [
    "load_valid_images(1500)\n"
   ]
  },
  {
   "cell_type": "code",
   "execution_count": 16,
   "metadata": {},
   "outputs": [
    {
     "name": "stderr",
     "output_type": "stream",
     "text": [
      "  0%|          | 2/600 [00:00<00:48, 12.36it/s]"
     ]
    },
    {
     "name": "stdout",
     "output_type": "stream",
     "text": [
      "Loading the testing images for O\n"
     ]
    },
    {
     "name": "stderr",
     "output_type": "stream",
     "text": [
      "100%|██████████| 600/600 [00:03<00:00, 171.47it/s]\n",
      "  1%|          | 5/600 [00:00<00:14, 40.00it/s]"
     ]
    },
    {
     "name": "stdout",
     "output_type": "stream",
     "text": [
      "Loading the testing images for R\n"
     ]
    },
    {
     "name": "stderr",
     "output_type": "stream",
     "text": [
      "100%|██████████| 600/600 [00:10<00:00, 58.81it/s]\n"
     ]
    }
   ],
   "source": [
    "load_test_images(600)"
   ]
  },
  {
   "cell_type": "code",
   "execution_count": 17,
   "metadata": {},
   "outputs": [
    {
     "name": "stdout",
     "output_type": "stream",
     "text": [
      "Found 15512 images belonging to 2 classes.\n",
      "Found 5593 images belonging to 2 classes.\n",
      "Found 1535 images belonging to 2 classes.\n"
     ]
    }
   ],
   "source": [
    "datagen=ImageDataGenerator(preprocessing_function=tf.keras.applications.vgg16.preprocess_input,rescale=1./255)\n",
    "train_batch=ImageDataGenerator(preprocessing_function=tf.keras.applications.vgg16.preprocess_input,rescale=1./255,horizontal_flip=True).flow_from_directory(directory=train_path,target_size=img_size,classes=target,batch_size=batch_size)\n",
    "valid_batch=datagen.flow_from_directory(directory=valid_path,target_size=img_size,classes=target,batch_size=batch_size)\n",
    "test_batch=datagen.flow_from_directory(directory=test_path,target_size=img_size,classes=target,batch_size=batch_size,shuffle=False)"
   ]
  },
  {
   "cell_type": "code",
   "execution_count": 18,
   "metadata": {},
   "outputs": [
    {
     "name": "stdout",
     "output_type": "stream",
     "text": [
      "0.59239614\n"
     ]
    }
   ],
   "source": [
    "images,labels=train_batch.next()\n",
    "print(np.max(images))"
   ]
  },
  {
   "cell_type": "code",
   "execution_count": 19,
   "metadata": {},
   "outputs": [],
   "source": [
    "def myModel(img):\n",
    "    layer=int(np.log2(img))\n",
    "    model=[]\n",
    "    model+=[\n",
    "        Conv2D(filters=32,kernel_size=(3,3),strides=1,padding='same',input_shape=(img,img,3),activation='relu'),\n",
    "        BatchNormalization(),\n",
    "        Conv2D(filters=32,kernel_size=(3,3),strides=1,padding='same',activation='relu'),\n",
    "        BatchNormalization(),\n",
    "        AvgPool2D(pool_size=(2,2),strides=2),\n",
    "    ]\n",
    "    layer-=1\n",
    "    filters=64\n",
    "    for i in range(layer):\n",
    "        model+=[\n",
    "            Conv2D(filters=filters,kernel_size=(3,3),strides=1,padding='same',activation='relu'),\n",
    "            BatchNormalization(),\n",
    "            Conv2D(filters=filters,kernel_size=(3,3),strides=1,padding='same',activation='relu'),\n",
    "            BatchNormalization(),\n",
    "            AvgPool2D(pool_size=(2,2),strides=2),\n",
    "        ]\n",
    "        filters*=2\n",
    "    model+=[\n",
    "        Flatten(),\n",
    "        Dense(units=4096,activation='relu'),\n",
    "        Dense(units=4096,activation='relu'),\n",
    "        Dense(units=len(target),activation='softmax')\n",
    "    ]\n",
    "    return Sequential(model)"
   ]
  },
  {
   "cell_type": "code",
   "execution_count": 20,
   "metadata": {},
   "outputs": [],
   "source": [
    "def build_model(hp):\n",
    "    model=myModel(96)\n",
    "    hp_lr=hp.Choice('learning_rate',values=list(np.linspace(start=0.0001,stop=0.0006,num=12)))\n",
    "    model.compile(optimizer=Adam(lr=hp_lr),loss='categorical_crossentropy',metrics=['accuracy'])\n",
    "    return model"
   ]
  },
  {
   "cell_type": "code",
   "execution_count": 21,
   "metadata": {},
   "outputs": [
    {
     "name": "stdout",
     "output_type": "stream",
     "text": [
      "INFO:tensorflow:Reloading Oracle from existing project .\\untitled_project\\oracle.json\n"
     ]
    },
    {
     "name": "stderr",
     "output_type": "stream",
     "text": [
      "C:\\ProgramData\\Anaconda3\\lib\\site-packages\\keras\\optimizer_v2\\optimizer_v2.py:355: UserWarning: The `lr` argument is deprecated, use `learning_rate` instead.\n",
      "  warnings.warn(\n"
     ]
    }
   ],
   "source": [
    "tuner=kt.Hyperband(build_model,objective='val_accuracy',max_epochs=epochs)\n"
   ]
  },
  {
   "cell_type": "code",
   "execution_count": 22,
   "metadata": {},
   "outputs": [],
   "source": [
    "stop_early=EarlyStopping(monitor='val_loss',patience=5)\n"
   ]
  },
  {
   "cell_type": "code",
   "execution_count": null,
   "metadata": {
    "scrolled": true
   },
   "outputs": [
    {
     "name": "stdout",
     "output_type": "stream",
     "text": [
      "\n",
      "Search: Running Trial #2\n",
      "\n",
      "Hyperparameter    |Value             |Best Value So Far \n",
      "learning_rate     |0.00028182        |?                 \n",
      "tuner/epochs      |2                 |?                 \n",
      "tuner/initial_e...|0                 |?                 \n",
      "tuner/bracket     |3                 |?                 \n",
      "tuner/round       |0                 |?                 \n",
      "\n",
      "Epoch 1/2\n",
      " 14/776 [..............................] - ETA: 1:05:24 - loss: 1.3411 - accuracy: 0.6464"
     ]
    }
   ],
   "source": [
    "tuner.search(train_batch,epochs=3,validation_data=valid_batch,callbacks=[stop_early])\n"
   ]
  },
  {
   "cell_type": "code",
   "execution_count": null,
   "metadata": {},
   "outputs": [],
   "source": []
  }
 ],
 "metadata": {
  "kernelspec": {
   "display_name": "Python 3",
   "language": "python",
   "name": "python3"
  },
  "language_info": {
   "codemirror_mode": {
    "name": "ipython",
    "version": 3
   },
   "file_extension": ".py",
   "mimetype": "text/x-python",
   "name": "python",
   "nbconvert_exporter": "python",
   "pygments_lexer": "ipython3",
   "version": "3.8.5"
  }
 },
 "nbformat": 4,
 "nbformat_minor": 4
}

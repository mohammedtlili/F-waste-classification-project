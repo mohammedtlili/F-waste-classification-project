{
 "cells": [
  {
   "cell_type": "code",
   "execution_count": 1,
   "metadata": {},
   "outputs": [],
   "source": [
    "#pip install scikit-image"
   ]
  },
  {
   "cell_type": "code",
   "execution_count": null,
   "metadata": {},
   "outputs": [],
   "source": [
    "import shutil\n",
    "\n",
    "import tensorflow as tf\n",
    "from skimage import transform\n",
    "from skimage import data\n",
    "import matplotlib.pyplot as plt\n",
    "import os\n",
    "import numpy as np\n",
    "from skimage.color import rgb2gray\n",
    "import random\n",
    "#scr = os.path.join(swd, 'Waste_classification/DATASET/TRAIN/R')\n",
    "#dest = path = os.path.join(swd, 'base/app/plastique');\n",
    "os.chdir('./Waste_classification/DATASET/TRAIN/R')\n",
    "R_im = os.listdir()\n",
    "#shutil.copy(scr+'/plasticbottle (48).jpg', dest+'/plasticbottle (48).jpg') "
   ]
  },
  {
   "cell_type": "code",
   "execution_count": 24,
   "metadata": {},
   "outputs": [],
   "source": [
    "from PIL import Image\n",
    "import glob\n",
    "import os\n",
    "\n",
    "# new folder path (may need to alter for Windows OS)\n",
    "# change path to your path\n",
    "path = './Waste_classification/DATASET/TRAIN' #the path where to save resized images\n",
    "# create new folder\n",
    "if not os.path.exists(path):\n",
    "    os.makedirs(path)\n",
    "\n",
    "# loop over existing images and resize\n",
    "# change path to your path\n",
    "for filename in glob.glob('./Waste_classification/DATASET/TRAIN/W/*.jpg'): #path of raw images\n",
    "    img = Image.open(filename).resize((64,64))\n",
    "    # save resized images to new folder with existing filename\n",
    "    img.save('{}{}{}'.format(path,'/',os.path.split(filename)[1]))"
   ]
  },
  {
   "cell_type": "code",
   "execution_count": null,
   "metadata": {},
   "outputs": [],
   "source": [
    "from PIL import Image\n",
    "import glob\n",
    "import os\n",
    "\n",
    "# new folder path (may need to alter for Windows OS)\n",
    "# change path to your path\n",
    "path = './Raskelny/DATASET/TRAIN/R' #the path where to save resized images\n",
    "# create new folder\n",
    "if not os.path.exists(path):\n",
    "    os.makedirs(path)\n",
    "\n",
    "# loop over existing images and resize\n",
    "# change path to your path\n",
    "\n",
    "for filename in glob.glob('./Waste_classification/DATASET/TRAIN/R*.jpg'): #path of raw images\n",
    "    img = Image.open(filename).resize((64,64))\n",
    "    # save resized images to new folder with existing filename\n",
    "    img.save('{}{}{}'.format(path,'/',os.path.split(filename)[1]))"
   ]
  }
 ],
 "metadata": {
  "kernelspec": {
   "display_name": "Python 3",
   "language": "python",
   "name": "python3"
  },
  "language_info": {
   "codemirror_mode": {
    "name": "ipython",
    "version": 3
   },
   "file_extension": ".py",
   "mimetype": "text/x-python",
   "name": "python",
   "nbconvert_exporter": "python",
   "pygments_lexer": "ipython3",
   "version": "3.8.5"
  }
 },
 "nbformat": 4,
 "nbformat_minor": 4
}

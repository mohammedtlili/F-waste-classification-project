{
 "cells": [
  {
   "cell_type": "code",
   "execution_count": 2,
   "metadata": {},
   "outputs": [
    {
     "name": "stdout",
     "output_type": "stream",
     "text": [
      "image size: 246023 bytes\n",
      "hdf5 file size: 1442048 bytes\n"
     ]
    }
   ],
   "source": [
    "import h5py\n",
    "import numpy as np\n",
    "import os\n",
    "from PIL import Image\n",
    "save_path = './numpy.hdf5'\n",
    "img_path = 'a.jpg'\n",
    "print('image size: %d bytes'%os.path.getsize(img_path))\n",
    "hf = h5py.File(save_path, 'a') # open a hdf5 file\n",
    "img_np = np.array(Image.open(img_path))\n",
    "\n",
    "dset = hf.create_dataset('default', data=img_np)  # write the data to hdf5 file\n",
    "hf.close()  # close the hdf5 file\n",
    "print('hdf5 file size: %d bytes'%os.path.getsize(save_path))"
   ]
  },
  {
   "cell_type": "code",
   "execution_count": 11,
   "metadata": {},
   "outputs": [
    {
     "ename": "ModuleNotFoundError",
     "evalue": "No module named 'HDFql'",
     "output_type": "error",
     "traceback": [
      "\u001b[1;31m---------------------------------------------------------------------------\u001b[0m",
      "\u001b[1;31mModuleNotFoundError\u001b[0m                       Traceback (most recent call last)",
      "\u001b[1;32m<ipython-input-11-92b61f54ba0c>\u001b[0m in \u001b[0;36m<module>\u001b[1;34m\u001b[0m\n\u001b[1;32m----> 1\u001b[1;33m \u001b[1;32mimport\u001b[0m \u001b[0mHDFql\u001b[0m\u001b[1;33m\u001b[0m\u001b[1;33m\u001b[0m\u001b[0m\n\u001b[0m\u001b[0;32m      2\u001b[0m \u001b[1;33m\u001b[0m\u001b[0m\n\u001b[0;32m      3\u001b[0m \u001b[0mcursor\u001b[0m \u001b[1;33m=\u001b[0m \u001b[0mHDFql\u001b[0m\u001b[1;33m.\u001b[0m\u001b[0mCursor\u001b[0m\u001b[1;33m(\u001b[0m\u001b[1;33m)\u001b[0m\u001b[1;33m\u001b[0m\u001b[1;33m\u001b[0m\u001b[0m\n\u001b[0;32m      4\u001b[0m \u001b[1;33m\u001b[0m\u001b[0m\n\u001b[0;32m      5\u001b[0m \u001b[0mfolder\u001b[0m \u001b[1;33m=\u001b[0m \u001b[1;34m\"/R/\"\u001b[0m\u001b[1;33m\u001b[0m\u001b[1;33m\u001b[0m\u001b[0m\n",
      "\u001b[1;31mModuleNotFoundError\u001b[0m: No module named 'HDFql'"
     ]
    }
   ],
   "source": [
    "import HDFql\n",
    "\n",
    "cursor = HDFql.Cursor()\n",
    "\n",
    "folder = \"/R/\"\n",
    "\n",
    "HDFql.execute(\"create and use file images.h5\")\n",
    "\n",
    "HDFql.execute(\"show file \\\"%s\\\"\" % folder)\n",
    "\n",
    "while HDFql.cursor_next() == HDFql.SUCCESS:\n",
    "\n",
    "    file = HDFql.cursor_get_char()\n",
    "\n",
    "    print(\"File found: \\\"%s\\\"\" % file)\n",
    "\n",
    "    HDFql.cursor_use(cursor)\n",
    "\n",
    "    HDFql.execute(\"show file size \\\"%s%s\\\"\" % (folder, file))\n",
    "\n",
    "    HDFql.cursor_next()\n",
    "\n",
    "    size = HDFql.cursor_get_bigint()\n",
    "\n",
    "    HDFql.cursor_use_default()\n",
    "\n",
    "    HDFql.execute(\"create dataset \\\"%s\\\" as opaque(%d) values from binary file \\\"%s%s\\\"\" % (file, size, (folder, file)))\n",
    "\n",
    "HDFql.execute(\"close file\")"
   ]
  },
  {
   "cell_type": "code",
   "execution_count": 12,
   "metadata": {},
   "outputs": [
    {
     "name": "stderr",
     "output_type": "stream",
     "text": [
      "ERROR: Could not find a version that satisfies the requirement HDFql (from versions: none)\n",
      "ERROR: No matching distribution found for HDFql\n"
     ]
    }
   ],
   "source": [
    "!pip install HDFql"
   ]
  },
  {
   "cell_type": "code",
   "execution_count": null,
   "metadata": {},
   "outputs": [],
   "source": []
  }
 ],
 "metadata": {
  "kernelspec": {
   "display_name": "Python 3",
   "language": "python",
   "name": "python3"
  },
  "language_info": {
   "codemirror_mode": {
    "name": "ipython",
    "version": 3
   },
   "file_extension": ".py",
   "mimetype": "text/x-python",
   "name": "python",
   "nbconvert_exporter": "python",
   "pygments_lexer": "ipython3",
   "version": "3.8.5"
  }
 },
 "nbformat": 4,
 "nbformat_minor": 4
}
